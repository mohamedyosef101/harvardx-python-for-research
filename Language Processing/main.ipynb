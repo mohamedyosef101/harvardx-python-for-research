{
  "cells": [
    {
      "cell_type": "markdown",
      "metadata": {
        "id": "view-in-github",
        "colab_type": "text"
      },
      "source": [
        "<a href=\"https://colab.research.google.com/github/mohamedyosef101/harvardx-python-for-research/blob/main/Language%20Processing/main.ipynb\" target=\"_parent\"><img src=\"https://colab.research.google.com/assets/colab-badge.svg\" alt=\"Open In Colab\"/></a>"
      ]
    },
    {
      "cell_type": "markdown",
      "source": [
        "# Language Processing"
      ],
      "metadata": {
        "id": "Ab6vqDV3HbMC"
      },
      "id": "Ab6vqDV3HbMC"
    },
    {
      "cell_type": "code",
      "source": [
        "# word counting\n",
        "\n",
        "text = \"Hello, my name is Mohamed and this is me trying to make NLP easier!\"\n",
        "\n",
        "def count_words(text):\n",
        "  \"\"\"\n",
        "  count the number of times each word appears in a given text.\n",
        "  \"\"\"\n",
        "  word_counts = {}\n",
        "  for word in text.split(\" \"):\n",
        "    if word in word_counts:\n",
        "      word_counts[word] += 1\n",
        "    else:\n",
        "      word_counts[word] = 1\n",
        "  return word_counts\n",
        "\n",
        "count_words(text)"
      ],
      "metadata": {
        "id": "Y5EC6WSCL8yj",
        "outputId": "fcce7968-3e2c-4b5d-c6eb-98b8b9580745",
        "colab": {
          "base_uri": "https://localhost:8080/"
        }
      },
      "id": "Y5EC6WSCL8yj",
      "execution_count": 77,
      "outputs": [
        {
          "output_type": "execute_result",
          "data": {
            "text/plain": [
              "{'Hello,': 1,\n",
              " 'my': 1,\n",
              " 'name': 1,\n",
              " 'is': 2,\n",
              " 'Mohamed': 1,\n",
              " 'and': 1,\n",
              " 'this': 1,\n",
              " 'me': 1,\n",
              " 'trying': 1,\n",
              " 'to': 1,\n",
              " 'make': 1,\n",
              " 'NLP': 1,\n",
              " 'easier!': 1}"
            ]
          },
          "metadata": {},
          "execution_count": 77
        }
      ]
    },
    {
      "cell_type": "code",
      "source": [
        "# remove punctuation and charcter case affect\n",
        "def count_words(text):\n",
        "  \"\"\"\n",
        "  count the number of times each word appears in a given text.\n",
        "  \"\"\"\n",
        "  word_counts = {}\n",
        "  text = text.lower()\n",
        "  skips = {\".\", \",\", \";\", \":\", \"'\", '\"', \"!\", \"?\"}\n",
        "  for skip in skips:\n",
        "    text = text.replace(skip, \"\")\n",
        "  for word in text.split(\" \"):\n",
        "    if word in word_counts:\n",
        "      word_counts[word] += 1\n",
        "    else:\n",
        "      word_counts[word] = 1\n",
        "  return word_counts\n",
        "\n",
        "count_words(text)"
      ],
      "metadata": {
        "id": "3duIOMoKNPPO",
        "outputId": "8caec7ad-cf90-413d-eee6-021c463d014f",
        "colab": {
          "base_uri": "https://localhost:8080/"
        }
      },
      "id": "3duIOMoKNPPO",
      "execution_count": 78,
      "outputs": [
        {
          "output_type": "execute_result",
          "data": {
            "text/plain": [
              "{'hello': 1,\n",
              " 'my': 1,\n",
              " 'name': 1,\n",
              " 'is': 2,\n",
              " 'mohamed': 1,\n",
              " 'and': 1,\n",
              " 'this': 1,\n",
              " 'me': 1,\n",
              " 'trying': 1,\n",
              " 'to': 1,\n",
              " 'make': 1,\n",
              " 'nlp': 1,\n",
              " 'easier': 1}"
            ]
          },
          "metadata": {},
          "execution_count": 78
        }
      ]
    },
    {
      "cell_type": "code",
      "source": [
        "# using the counter object for fast code\n",
        "\n",
        "from collections import Counter\n",
        "\n",
        "def fast_count(text):\n",
        "  \"\"\"\n",
        "  count the number of times each word appears in a given text using a\n",
        "  Counter object.\n",
        "  \"\"\"\n",
        "  word_counts = {}\n",
        "  text = text.lower()\n",
        "\n",
        "  skips = {\".\", \",\", \";\", \":\", \"'\", '\"', \"!\", \"?\"}\n",
        "  for skip in skips:\n",
        "    text = text.replace(skip, \"\")\n",
        "\n",
        "  word_counts = Counter(text.split(\" \"))\n",
        "\n",
        "  return word_counts\n",
        "\n",
        "fast_count(text)"
      ],
      "metadata": {
        "id": "4IyCFeDgNgPE",
        "outputId": "0df10158-f4e4-49e6-8e0c-9743973e55cc",
        "colab": {
          "base_uri": "https://localhost:8080/"
        }
      },
      "id": "4IyCFeDgNgPE",
      "execution_count": 79,
      "outputs": [
        {
          "output_type": "execute_result",
          "data": {
            "text/plain": [
              "Counter({'hello': 1,\n",
              "         'my': 1,\n",
              "         'name': 1,\n",
              "         'is': 2,\n",
              "         'mohamed': 1,\n",
              "         'and': 1,\n",
              "         'this': 1,\n",
              "         'me': 1,\n",
              "         'trying': 1,\n",
              "         'to': 1,\n",
              "         'make': 1,\n",
              "         'nlp': 1,\n",
              "         'easier': 1})"
            ]
          },
          "metadata": {},
          "execution_count": 79
        }
      ]
    },
    {
      "cell_type": "code",
      "source": [
        "# Are the two functions give the same output?\n",
        "print(count_words(text) == fast_count(text))"
      ],
      "metadata": {
        "id": "fahOSu6vP6Iy",
        "outputId": "cc45dcbb-1421-4c3e-dd22-ab70026d9079",
        "colab": {
          "base_uri": "https://localhost:8080/"
        }
      },
      "id": "fahOSu6vP6Iy",
      "execution_count": 80,
      "outputs": [
        {
          "output_type": "stream",
          "name": "stdout",
          "text": [
            "True\n"
          ]
        }
      ]
    },
    {
      "cell_type": "markdown",
      "source": [
        "# Reading in a Book\n",
        "We will use utf8 encoding to encode characters in our files to help computer read them."
      ],
      "metadata": {
        "id": "ZmShOvzkQXNK"
      },
      "id": "ZmShOvzkQXNK"
    },
    {
      "cell_type": "code",
      "source": [
        "# get the books\n",
        "\n",
        "import requests\n",
        "import zipfile\n",
        "from pathlib import Path\n",
        "\n",
        "# Setup path to data folder\n",
        "data_path = Path(\"data/\")\n",
        "books_path = data_path / \"txt-books\"\n",
        "\n",
        "# If the books folder doesn't exist, download it and prepare it...\n",
        "if books_path.is_dir():\n",
        "    print(f\"{books_path} directory exists.\")\n",
        "else:\n",
        "    print(f\"Did not find {books_path} directory, creating one...\")\n",
        "    books_path.mkdir(parents=True, exist_ok=True)\n",
        "\n",
        "    # Download pizza, steak, sushi data\n",
        "    with open(data_path / \"txt-books.zip\", \"wb\") as f:\n",
        "        request = requests.get(\"https://github.com/mohamedyosef101/harvardx-python-for-research/raw/main/Language%20Processing/txt-books.zip\")\n",
        "        print(\"Downloading books...\")\n",
        "        f.write(request.content)\n",
        "\n",
        "    # Unzip txt-books\n",
        "    with zipfile.ZipFile(data_path / \"txt-books.zip\", \"r\") as zip_ref:\n",
        "        print(\"Unzipping books...\")\n",
        "        zip_ref.extractall(books_path)\n"
      ],
      "metadata": {
        "id": "40ym0doWSdKA",
        "outputId": "b45606fa-c97e-4608-f172-8b0d71f4aae8",
        "colab": {
          "base_uri": "https://localhost:8080/"
        }
      },
      "id": "40ym0doWSdKA",
      "execution_count": 81,
      "outputs": [
        {
          "output_type": "stream",
          "name": "stdout",
          "text": [
            "data/txt-books directory exists.\n"
          ]
        }
      ]
    },
    {
      "cell_type": "code",
      "source": [
        "def read_book(book_path):\n",
        "  \"\"\"\n",
        "  Read a book and return it as a string.\n",
        "  \"\"\"\n",
        "  with open(book_path, \"r\", encoding=\"utf8\") as f:\n",
        "    book = f.read()\n",
        "    book = book.replace(\"\\n\", \"\").replace(\"\\r\", \"\").replace(\"  \", \" \")\n",
        "  return book"
      ],
      "metadata": {
        "id": "APwmygeVYYhe"
      },
      "id": "APwmygeVYYhe",
      "execution_count": 82,
      "outputs": []
    },
    {
      "cell_type": "code",
      "source": [
        "rj_book_path = \"./data/txt-books/English/shakespeare/Romeo and Juliet.txt\"\n",
        "rj_book = read_book(rj_book_path)\n",
        "len(rj_book)"
      ],
      "metadata": {
        "id": "ejPgat_UZNyC",
        "outputId": "9465497f-b77d-409e-8291-484cba75797a",
        "colab": {
          "base_uri": "https://localhost:8080/"
        }
      },
      "id": "ejPgat_UZNyC",
      "execution_count": 83,
      "outputs": [
        {
          "output_type": "execute_result",
          "data": {
            "text/plain": [
              "161572"
            ]
          },
          "metadata": {},
          "execution_count": 83
        }
      ]
    },
    {
      "cell_type": "code",
      "source": [
        "# search for line\n",
        "rj_book.find(\"What's in a name?\")"
      ],
      "metadata": {
        "id": "9cZPWlTMZ_89",
        "outputId": "c6ef7851-3571-4a10-adf8-f4b37002cc81",
        "colab": {
          "base_uri": "https://localhost:8080/"
        }
      },
      "id": "9cZPWlTMZ_89",
      "execution_count": 84,
      "outputs": [
        {
          "output_type": "execute_result",
          "data": {
            "text/plain": [
              "40797"
            ]
          },
          "metadata": {},
          "execution_count": 84
        }
      ]
    },
    {
      "cell_type": "code",
      "source": [
        "# see the big context\n",
        "idx = rj_book.find(\"What's in a name?\")\n",
        "big_context = rj_book[idx-100: idx+1000]\n",
        "big_context"
      ],
      "metadata": {
        "id": "hpnCUggiaLKm",
        "outputId": "4d847911-c8a0-4a4b-f9bf-2f46263ec7ac",
        "colab": {
          "base_uri": "https://localhost:8080/",
          "height": 226
        }
      },
      "id": "hpnCUggiaLKm",
      "execution_count": 85,
      "outputs": [
        {
          "output_type": "execute_result",
          "data": {
            "text/plain": [
              "\"hand, nor foot,  Nor arm, nor face, nor any other part  Belonging to a man. O, be some other name!  What's in a name? That which we call a rose  By any other name would smell as sweet.  So Romeo would, were he not Romeo call'd,  Retain that dear perfection which he owes  Without that title. Romeo, doff thy name;  And for that name, which is no part of thee,  Take all myself. Rom. I take thee at thy word.  Call me but love, and I'll be new baptiz'd;  Henceforth I never will be Romeo. Jul. What man art thou that, thus bescreen'd in night,  So stumblest on my counsel? Rom. By a name  I know not how to tell thee who I am.  My name, dear saint, is hateful to myself,  Because it is an enemy to thee.  Had I it written, I would tear the word. Jul. My ears have yet not drunk a hundred words  Of that tongue's utterance, yet I know the sound.  Art thou not Romeo, and a Montague? Rom. Neither, fair saint, if either thee dislike. Jul. How cam'st thou hither, tell me, and wherefore?  The orchard walls are high and hard to climb,  And the place death, considering who thou art,  If any of my kinsmen\""
            ],
            "application/vnd.google.colaboratory.intrinsic+json": {
              "type": "string"
            }
          },
          "metadata": {},
          "execution_count": 85
        }
      ]
    },
    {
      "cell_type": "code",
      "source": [
        "def word_stats(word_counts, prints=False):\n",
        "  \"Return number of unique words and word frequencies.\"\n",
        "  num_unique = len(word_counts)\n",
        "  counts = word_counts.values() # every dic. has keys and values\n",
        "  most_freq, rep_times = max(word_counts), max(counts)\n",
        "  if prints:\n",
        "    print(f\"There are {num_unique} unique words in the book\" +\n",
        "          f\"\\nThe most frequent word is: {most_freq}\" +\n",
        "          f\" (repeated {rep_times} times)\")\n",
        "  return num_unique, most_freq.replace(\"\\ufeff\", \"\"), rep_times"
      ],
      "metadata": {
        "id": "Prl5gyRubcI6"
      },
      "id": "Prl5gyRubcI6",
      "execution_count": 86,
      "outputs": []
    },
    {
      "cell_type": "code",
      "source": [
        "num_unique, most_freq, rep_times = word_stats(count_words(rj_book))"
      ],
      "metadata": {
        "id": "70_YR9TzcDGn"
      },
      "id": "70_YR9TzcDGn",
      "execution_count": 87,
      "outputs": []
    },
    {
      "cell_type": "code",
      "source": [
        "word_stats(count_words(rj_book), prints=True)"
      ],
      "metadata": {
        "id": "uoXl-mZDjH6b",
        "outputId": "e40d4d6e-722f-4729-f181-63ddf6c816a3",
        "colab": {
          "base_uri": "https://localhost:8080/"
        }
      },
      "id": "uoXl-mZDjH6b",
      "execution_count": 88,
      "outputs": [
        {
          "output_type": "stream",
          "name": "stdout",
          "text": [
            "There are 4671 unique words in the book\n",
            "The most frequent word is: ﻿the (repeated 4480 times)\n"
          ]
        },
        {
          "output_type": "execute_result",
          "data": {
            "text/plain": [
              "(4671, 'the', 4480)"
            ]
          },
          "metadata": {},
          "execution_count": 88
        }
      ]
    },
    {
      "cell_type": "markdown",
      "source": [
        "# Reading Multiple files"
      ],
      "metadata": {
        "id": "kPCUoB0ZgEV0"
      },
      "id": "kPCUoB0ZgEV0"
    },
    {
      "cell_type": "markdown",
      "source": [
        "If you take a look at the structure of the book directory, you will find that it looks like the following:\n",
        "\n",
        "```\n",
        "txt-books/\n",
        "  language/\n",
        "    author/\n",
        "      book title\n",
        "```"
      ],
      "metadata": {
        "id": "oV0visWwgffh"
      },
      "id": "oV0visWwgffh"
    },
    {
      "cell_type": "code",
      "source": [
        "import os\n",
        "books_dir = 'data/txt-books'\n",
        "\n",
        "for language in os.listdir(books_dir):\n",
        "  for author in os.listdir(books_dir + \"/\" + language):\n",
        "    for title in os.listdir(books_dir + \"/\" + language + \"/\" + author):\n",
        "      inputfile = books_dir + \"/\" + language + \"/\" + author + \"/\" + title\n",
        "      print(f\" Reading {inputfile}...\")\n",
        "      book = read_book(inputfile)\n",
        "      num_unique, most_freq, rep_times = word_stats(count_words(book))"
      ],
      "metadata": {
        "id": "dcUd3_JudBBb",
        "outputId": "a40993f4-646a-4d77-f20b-26454049466a",
        "colab": {
          "base_uri": "https://localhost:8080/"
        }
      },
      "id": "dcUd3_JudBBb",
      "execution_count": 89,
      "outputs": [
        {
          "output_type": "stream",
          "name": "stdout",
          "text": [
            " Reading data/txt-books/French/de Maupassant/Contes de la Becasse.txt...\n",
            " Reading data/txt-books/French/de Maupassant/Le Horla.txt...\n",
            " Reading data/txt-books/French/de Maupassant/Boule de Suif.txt...\n",
            " Reading data/txt-books/French/de Maupassant/L'inutile beautÇ.txt...\n",
            " Reading data/txt-books/French/de Maupassant/La Main Gauche.txt...\n",
            " Reading data/txt-books/French/de Maupassant/Claire de Lune.txt...\n",
            " Reading data/txt-books/French/de Maupassant/Œuvres complètes de Guy de Maupassant.txt...\n",
            " Reading data/txt-books/French/de Maupassant/La Maison Tellier.txt...\n",
            " Reading data/txt-books/French/de Maupassant/La petite roque.txt...\n",
            " Reading data/txt-books/French/diderot/Entretien d'un päre avec ses enfants.txt...\n",
            " Reading data/txt-books/French/diderot/Regrets sur ma vieille robe de chambre.txt...\n",
            " Reading data/txt-books/French/diderot/Les deux amis de Bourbonne.txt...\n",
            " Reading data/txt-books/French/diderot/Ceci n'est pas un conte.txt...\n",
            " Reading data/txt-books/French/diderot/L'oiseau blanc.txt...\n",
            " Reading data/txt-books/French/sand/La Marquise.txt...\n",
            " Reading data/txt-books/French/sand/cora.txt...\n",
            " Reading data/txt-books/French/sand/La Coupe; Lupo Liverani; Le Toast; Garnier; Le Contrebandier; La Ràverie Ö Paris.txt...\n",
            " Reading data/txt-books/French/sand/Pauline.txt...\n",
            " Reading data/txt-books/French/sand/Oeuvres illustrÇes de George Sand.txt...\n",
            " Reading data/txt-books/French/sand/Le Piccinino.txt...\n",
            " Reading data/txt-books/French/sand/Le poâme de Myrza.txt...\n",
            " Reading data/txt-books/French/sand/Jacques le fataliste et son maåtre.txt...\n",
            " Reading data/txt-books/French/sand/Metella.txt...\n",
            " Reading data/txt-books/French/sand/L' Orco.txt...\n",
            " Reading data/txt-books/French/sand/Mattea.txt...\n",
            " Reading data/txt-books/French/chevalier/L'enfer et le paradis de l'autre monde.txt...\n",
            " Reading data/txt-books/French/chevalier/Le chasseur noir.txt...\n",
            " Reading data/txt-books/French/chevalier/Les derniers Iroquois.txt...\n",
            " Reading data/txt-books/French/chevalier/La fille des indiens rouges.txt...\n",
            " Reading data/txt-books/French/chevalier/La fille du pirate.txt...\n",
            " Reading data/txt-books/French/chevalier/La capitaine.txt...\n",
            " Reading data/txt-books/French/chevalier/L'åle de sable.txt...\n",
            " Reading data/txt-books/English/shakespeare/Macbeth.txt...\n",
            " Reading data/txt-books/English/shakespeare/Richard III.txt...\n",
            " Reading data/txt-books/English/shakespeare/Othello.txt...\n",
            " Reading data/txt-books/English/shakespeare/Romeo and Juliet.txt...\n",
            " Reading data/txt-books/English/shakespeare/Hamlet.txt...\n",
            " Reading data/txt-books/English/shakespeare/The Merchant of Venice.txt...\n",
            " Reading data/txt-books/English/shakespeare/A Midsummer Night's Dream.txt...\n"
          ]
        }
      ]
    },
    {
      "cell_type": "markdown",
      "source": [
        "# Using pandas"
      ],
      "metadata": {
        "id": "2WfvGJW1pJmE"
      },
      "id": "2WfvGJW1pJmE"
    },
    {
      "cell_type": "code",
      "source": [
        "import pandas as pd\n",
        "stats =  pd.DataFrame(columns=(\"language\", \"author\", \"title\",\n",
        "                               \"length\", \"unique\", \"frquent\", \"repeated\"))\n",
        "idx_row = 0\n",
        "for language in os.listdir(books_dir):\n",
        "  for author in os.listdir(books_dir + \"/\" + language):\n",
        "    for title in os.listdir(books_dir + \"/\" + language + \"/\" + author):\n",
        "      inputfile = books_dir + \"/\" + language + \"/\" + author + \"/\" + title\n",
        "      print(f\" Reading {inputfile}...\")\n",
        "      book = read_book(inputfile)\n",
        "      num_unique, most_freq, rep_times = word_stats(count_words(book))\n",
        "      stats.loc[idx_row] = language, author, title, len(book), num_unique, most_freq.replace(\"\\ufeff\", \"\"), rep_times\n",
        "      idx_row += 1"
      ],
      "metadata": {
        "id": "or4v7Qbsqei5",
        "outputId": "b1987244-61c7-4329-9ea4-52c0ba3d7218",
        "colab": {
          "base_uri": "https://localhost:8080/"
        }
      },
      "id": "or4v7Qbsqei5",
      "execution_count": 90,
      "outputs": [
        {
          "output_type": "stream",
          "name": "stdout",
          "text": [
            " Reading data/txt-books/French/de Maupassant/Contes de la Becasse.txt...\n",
            " Reading data/txt-books/French/de Maupassant/Le Horla.txt...\n",
            " Reading data/txt-books/French/de Maupassant/Boule de Suif.txt...\n",
            " Reading data/txt-books/French/de Maupassant/L'inutile beautÇ.txt...\n",
            " Reading data/txt-books/French/de Maupassant/La Main Gauche.txt...\n",
            " Reading data/txt-books/French/de Maupassant/Claire de Lune.txt...\n",
            " Reading data/txt-books/French/de Maupassant/Œuvres complètes de Guy de Maupassant.txt...\n",
            " Reading data/txt-books/French/de Maupassant/La Maison Tellier.txt...\n",
            " Reading data/txt-books/French/de Maupassant/La petite roque.txt...\n",
            " Reading data/txt-books/French/diderot/Entretien d'un päre avec ses enfants.txt...\n",
            " Reading data/txt-books/French/diderot/Regrets sur ma vieille robe de chambre.txt...\n",
            " Reading data/txt-books/French/diderot/Les deux amis de Bourbonne.txt...\n",
            " Reading data/txt-books/French/diderot/Ceci n'est pas un conte.txt...\n",
            " Reading data/txt-books/French/diderot/L'oiseau blanc.txt...\n",
            " Reading data/txt-books/French/sand/La Marquise.txt...\n",
            " Reading data/txt-books/French/sand/cora.txt...\n",
            " Reading data/txt-books/French/sand/La Coupe; Lupo Liverani; Le Toast; Garnier; Le Contrebandier; La Ràverie Ö Paris.txt...\n",
            " Reading data/txt-books/French/sand/Pauline.txt...\n",
            " Reading data/txt-books/French/sand/Oeuvres illustrÇes de George Sand.txt...\n",
            " Reading data/txt-books/French/sand/Le Piccinino.txt...\n",
            " Reading data/txt-books/French/sand/Le poâme de Myrza.txt...\n",
            " Reading data/txt-books/French/sand/Jacques le fataliste et son maåtre.txt...\n",
            " Reading data/txt-books/French/sand/Metella.txt...\n",
            " Reading data/txt-books/French/sand/L' Orco.txt...\n",
            " Reading data/txt-books/French/sand/Mattea.txt...\n",
            " Reading data/txt-books/French/chevalier/L'enfer et le paradis de l'autre monde.txt...\n",
            " Reading data/txt-books/French/chevalier/Le chasseur noir.txt...\n",
            " Reading data/txt-books/French/chevalier/Les derniers Iroquois.txt...\n",
            " Reading data/txt-books/French/chevalier/La fille des indiens rouges.txt...\n",
            " Reading data/txt-books/French/chevalier/La fille du pirate.txt...\n",
            " Reading data/txt-books/French/chevalier/La capitaine.txt...\n",
            " Reading data/txt-books/French/chevalier/L'åle de sable.txt...\n",
            " Reading data/txt-books/English/shakespeare/Macbeth.txt...\n",
            " Reading data/txt-books/English/shakespeare/Richard III.txt...\n",
            " Reading data/txt-books/English/shakespeare/Othello.txt...\n",
            " Reading data/txt-books/English/shakespeare/Romeo and Juliet.txt...\n",
            " Reading data/txt-books/English/shakespeare/Hamlet.txt...\n",
            " Reading data/txt-books/English/shakespeare/The Merchant of Venice.txt...\n",
            " Reading data/txt-books/English/shakespeare/A Midsummer Night's Dream.txt...\n"
          ]
        }
      ]
    },
    {
      "cell_type": "code",
      "source": [
        "stats.head()"
      ],
      "metadata": {
        "id": "nbwvtgI6tPvz",
        "outputId": "54d5efff-1edf-4d46-d803-474443bb279d",
        "colab": {
          "base_uri": "https://localhost:8080/",
          "height": 293
        }
      },
      "id": "nbwvtgI6tPvz",
      "execution_count": 91,
      "outputs": [
        {
          "output_type": "execute_result",
          "data": {
            "text/plain": [
              "  language         author                     title  length  unique frquent  \\\n",
              "0   French  de Maupassant  Contes de la Becasse.txt  220237   10125     the   \n",
              "1   French  de Maupassant              Le Horla.txt  259485   10872     the   \n",
              "2   French  de Maupassant         Boule de Suif.txt  235694   10625     the   \n",
              "3   French  de Maupassant      L'inutile beautÇ.txt  241325   10662     the   \n",
              "4   French  de Maupassant        La Main Gauche.txt  217618    9842     the   \n",
              "\n",
              "   repeated  \n",
              "0      1091  \n",
              "1      1218  \n",
              "2      1228  \n",
              "3      1312  \n",
              "4      1096  "
            ],
            "text/html": [
              "\n",
              "  <div id=\"df-2bb5e976-ce4c-4a9b-bbb8-051dd682cd3e\" class=\"colab-df-container\">\n",
              "    <div>\n",
              "<style scoped>\n",
              "    .dataframe tbody tr th:only-of-type {\n",
              "        vertical-align: middle;\n",
              "    }\n",
              "\n",
              "    .dataframe tbody tr th {\n",
              "        vertical-align: top;\n",
              "    }\n",
              "\n",
              "    .dataframe thead th {\n",
              "        text-align: right;\n",
              "    }\n",
              "</style>\n",
              "<table border=\"1\" class=\"dataframe\">\n",
              "  <thead>\n",
              "    <tr style=\"text-align: right;\">\n",
              "      <th></th>\n",
              "      <th>language</th>\n",
              "      <th>author</th>\n",
              "      <th>title</th>\n",
              "      <th>length</th>\n",
              "      <th>unique</th>\n",
              "      <th>frquent</th>\n",
              "      <th>repeated</th>\n",
              "    </tr>\n",
              "  </thead>\n",
              "  <tbody>\n",
              "    <tr>\n",
              "      <th>0</th>\n",
              "      <td>French</td>\n",
              "      <td>de Maupassant</td>\n",
              "      <td>Contes de la Becasse.txt</td>\n",
              "      <td>220237</td>\n",
              "      <td>10125</td>\n",
              "      <td>the</td>\n",
              "      <td>1091</td>\n",
              "    </tr>\n",
              "    <tr>\n",
              "      <th>1</th>\n",
              "      <td>French</td>\n",
              "      <td>de Maupassant</td>\n",
              "      <td>Le Horla.txt</td>\n",
              "      <td>259485</td>\n",
              "      <td>10872</td>\n",
              "      <td>the</td>\n",
              "      <td>1218</td>\n",
              "    </tr>\n",
              "    <tr>\n",
              "      <th>2</th>\n",
              "      <td>French</td>\n",
              "      <td>de Maupassant</td>\n",
              "      <td>Boule de Suif.txt</td>\n",
              "      <td>235694</td>\n",
              "      <td>10625</td>\n",
              "      <td>the</td>\n",
              "      <td>1228</td>\n",
              "    </tr>\n",
              "    <tr>\n",
              "      <th>3</th>\n",
              "      <td>French</td>\n",
              "      <td>de Maupassant</td>\n",
              "      <td>L'inutile beautÇ.txt</td>\n",
              "      <td>241325</td>\n",
              "      <td>10662</td>\n",
              "      <td>the</td>\n",
              "      <td>1312</td>\n",
              "    </tr>\n",
              "    <tr>\n",
              "      <th>4</th>\n",
              "      <td>French</td>\n",
              "      <td>de Maupassant</td>\n",
              "      <td>La Main Gauche.txt</td>\n",
              "      <td>217618</td>\n",
              "      <td>9842</td>\n",
              "      <td>the</td>\n",
              "      <td>1096</td>\n",
              "    </tr>\n",
              "  </tbody>\n",
              "</table>\n",
              "</div>\n",
              "    <div class=\"colab-df-buttons\">\n",
              "\n",
              "  <div class=\"colab-df-container\">\n",
              "    <button class=\"colab-df-convert\" onclick=\"convertToInteractive('df-2bb5e976-ce4c-4a9b-bbb8-051dd682cd3e')\"\n",
              "            title=\"Convert this dataframe to an interactive table.\"\n",
              "            style=\"display:none;\">\n",
              "\n",
              "  <svg xmlns=\"http://www.w3.org/2000/svg\" height=\"24px\" viewBox=\"0 -960 960 960\">\n",
              "    <path d=\"M120-120v-720h720v720H120Zm60-500h600v-160H180v160Zm220 220h160v-160H400v160Zm0 220h160v-160H400v160ZM180-400h160v-160H180v160Zm440 0h160v-160H620v160ZM180-180h160v-160H180v160Zm440 0h160v-160H620v160Z\"/>\n",
              "  </svg>\n",
              "    </button>\n",
              "\n",
              "  <style>\n",
              "    .colab-df-container {\n",
              "      display:flex;\n",
              "      gap: 12px;\n",
              "    }\n",
              "\n",
              "    .colab-df-convert {\n",
              "      background-color: #E8F0FE;\n",
              "      border: none;\n",
              "      border-radius: 50%;\n",
              "      cursor: pointer;\n",
              "      display: none;\n",
              "      fill: #1967D2;\n",
              "      height: 32px;\n",
              "      padding: 0 0 0 0;\n",
              "      width: 32px;\n",
              "    }\n",
              "\n",
              "    .colab-df-convert:hover {\n",
              "      background-color: #E2EBFA;\n",
              "      box-shadow: 0px 1px 2px rgba(60, 64, 67, 0.3), 0px 1px 3px 1px rgba(60, 64, 67, 0.15);\n",
              "      fill: #174EA6;\n",
              "    }\n",
              "\n",
              "    .colab-df-buttons div {\n",
              "      margin-bottom: 4px;\n",
              "    }\n",
              "\n",
              "    [theme=dark] .colab-df-convert {\n",
              "      background-color: #3B4455;\n",
              "      fill: #D2E3FC;\n",
              "    }\n",
              "\n",
              "    [theme=dark] .colab-df-convert:hover {\n",
              "      background-color: #434B5C;\n",
              "      box-shadow: 0px 1px 3px 1px rgba(0, 0, 0, 0.15);\n",
              "      filter: drop-shadow(0px 1px 2px rgba(0, 0, 0, 0.3));\n",
              "      fill: #FFFFFF;\n",
              "    }\n",
              "  </style>\n",
              "\n",
              "    <script>\n",
              "      const buttonEl =\n",
              "        document.querySelector('#df-2bb5e976-ce4c-4a9b-bbb8-051dd682cd3e button.colab-df-convert');\n",
              "      buttonEl.style.display =\n",
              "        google.colab.kernel.accessAllowed ? 'block' : 'none';\n",
              "\n",
              "      async function convertToInteractive(key) {\n",
              "        const element = document.querySelector('#df-2bb5e976-ce4c-4a9b-bbb8-051dd682cd3e');\n",
              "        const dataTable =\n",
              "          await google.colab.kernel.invokeFunction('convertToInteractive',\n",
              "                                                    [key], {});\n",
              "        if (!dataTable) return;\n",
              "\n",
              "        const docLinkHtml = 'Like what you see? Visit the ' +\n",
              "          '<a target=\"_blank\" href=https://colab.research.google.com/notebooks/data_table.ipynb>data table notebook</a>'\n",
              "          + ' to learn more about interactive tables.';\n",
              "        element.innerHTML = '';\n",
              "        dataTable['output_type'] = 'display_data';\n",
              "        await google.colab.output.renderOutput(dataTable, element);\n",
              "        const docLink = document.createElement('div');\n",
              "        docLink.innerHTML = docLinkHtml;\n",
              "        element.appendChild(docLink);\n",
              "      }\n",
              "    </script>\n",
              "  </div>\n",
              "\n",
              "\n",
              "<div id=\"df-edb4b4bc-b18f-49af-ba58-719c16a8849e\">\n",
              "  <button class=\"colab-df-quickchart\" onclick=\"quickchart('df-edb4b4bc-b18f-49af-ba58-719c16a8849e')\"\n",
              "            title=\"Suggest charts\"\n",
              "            style=\"display:none;\">\n",
              "\n",
              "<svg xmlns=\"http://www.w3.org/2000/svg\" height=\"24px\"viewBox=\"0 0 24 24\"\n",
              "     width=\"24px\">\n",
              "    <g>\n",
              "        <path d=\"M19 3H5c-1.1 0-2 .9-2 2v14c0 1.1.9 2 2 2h14c1.1 0 2-.9 2-2V5c0-1.1-.9-2-2-2zM9 17H7v-7h2v7zm4 0h-2V7h2v10zm4 0h-2v-4h2v4z\"/>\n",
              "    </g>\n",
              "</svg>\n",
              "  </button>\n",
              "\n",
              "<style>\n",
              "  .colab-df-quickchart {\n",
              "      --bg-color: #E8F0FE;\n",
              "      --fill-color: #1967D2;\n",
              "      --hover-bg-color: #E2EBFA;\n",
              "      --hover-fill-color: #174EA6;\n",
              "      --disabled-fill-color: #AAA;\n",
              "      --disabled-bg-color: #DDD;\n",
              "  }\n",
              "\n",
              "  [theme=dark] .colab-df-quickchart {\n",
              "      --bg-color: #3B4455;\n",
              "      --fill-color: #D2E3FC;\n",
              "      --hover-bg-color: #434B5C;\n",
              "      --hover-fill-color: #FFFFFF;\n",
              "      --disabled-bg-color: #3B4455;\n",
              "      --disabled-fill-color: #666;\n",
              "  }\n",
              "\n",
              "  .colab-df-quickchart {\n",
              "    background-color: var(--bg-color);\n",
              "    border: none;\n",
              "    border-radius: 50%;\n",
              "    cursor: pointer;\n",
              "    display: none;\n",
              "    fill: var(--fill-color);\n",
              "    height: 32px;\n",
              "    padding: 0;\n",
              "    width: 32px;\n",
              "  }\n",
              "\n",
              "  .colab-df-quickchart:hover {\n",
              "    background-color: var(--hover-bg-color);\n",
              "    box-shadow: 0 1px 2px rgba(60, 64, 67, 0.3), 0 1px 3px 1px rgba(60, 64, 67, 0.15);\n",
              "    fill: var(--button-hover-fill-color);\n",
              "  }\n",
              "\n",
              "  .colab-df-quickchart-complete:disabled,\n",
              "  .colab-df-quickchart-complete:disabled:hover {\n",
              "    background-color: var(--disabled-bg-color);\n",
              "    fill: var(--disabled-fill-color);\n",
              "    box-shadow: none;\n",
              "  }\n",
              "\n",
              "  .colab-df-spinner {\n",
              "    border: 2px solid var(--fill-color);\n",
              "    border-color: transparent;\n",
              "    border-bottom-color: var(--fill-color);\n",
              "    animation:\n",
              "      spin 1s steps(1) infinite;\n",
              "  }\n",
              "\n",
              "  @keyframes spin {\n",
              "    0% {\n",
              "      border-color: transparent;\n",
              "      border-bottom-color: var(--fill-color);\n",
              "      border-left-color: var(--fill-color);\n",
              "    }\n",
              "    20% {\n",
              "      border-color: transparent;\n",
              "      border-left-color: var(--fill-color);\n",
              "      border-top-color: var(--fill-color);\n",
              "    }\n",
              "    30% {\n",
              "      border-color: transparent;\n",
              "      border-left-color: var(--fill-color);\n",
              "      border-top-color: var(--fill-color);\n",
              "      border-right-color: var(--fill-color);\n",
              "    }\n",
              "    40% {\n",
              "      border-color: transparent;\n",
              "      border-right-color: var(--fill-color);\n",
              "      border-top-color: var(--fill-color);\n",
              "    }\n",
              "    60% {\n",
              "      border-color: transparent;\n",
              "      border-right-color: var(--fill-color);\n",
              "    }\n",
              "    80% {\n",
              "      border-color: transparent;\n",
              "      border-right-color: var(--fill-color);\n",
              "      border-bottom-color: var(--fill-color);\n",
              "    }\n",
              "    90% {\n",
              "      border-color: transparent;\n",
              "      border-bottom-color: var(--fill-color);\n",
              "    }\n",
              "  }\n",
              "</style>\n",
              "\n",
              "  <script>\n",
              "    async function quickchart(key) {\n",
              "      const quickchartButtonEl =\n",
              "        document.querySelector('#' + key + ' button');\n",
              "      quickchartButtonEl.disabled = true;  // To prevent multiple clicks.\n",
              "      quickchartButtonEl.classList.add('colab-df-spinner');\n",
              "      try {\n",
              "        const charts = await google.colab.kernel.invokeFunction(\n",
              "            'suggestCharts', [key], {});\n",
              "      } catch (error) {\n",
              "        console.error('Error during call to suggestCharts:', error);\n",
              "      }\n",
              "      quickchartButtonEl.classList.remove('colab-df-spinner');\n",
              "      quickchartButtonEl.classList.add('colab-df-quickchart-complete');\n",
              "    }\n",
              "    (() => {\n",
              "      let quickchartButtonEl =\n",
              "        document.querySelector('#df-edb4b4bc-b18f-49af-ba58-719c16a8849e button');\n",
              "      quickchartButtonEl.style.display =\n",
              "        google.colab.kernel.accessAllowed ? 'block' : 'none';\n",
              "    })();\n",
              "  </script>\n",
              "</div>\n",
              "\n",
              "    </div>\n",
              "  </div>\n"
            ],
            "application/vnd.google.colaboratory.intrinsic+json": {
              "type": "dataframe",
              "variable_name": "stats",
              "summary": "{\n  \"name\": \"stats\",\n  \"rows\": 39,\n  \"fields\": [\n    {\n      \"column\": \"language\",\n      \"properties\": {\n        \"dtype\": \"category\",\n        \"num_unique_values\": 2,\n        \"samples\": [\n          \"English\",\n          \"French\"\n        ],\n        \"semantic_type\": \"\",\n        \"description\": \"\"\n      }\n    },\n    {\n      \"column\": \"author\",\n      \"properties\": {\n        \"dtype\": \"category\",\n        \"num_unique_values\": 5,\n        \"samples\": [\n          \"diderot\",\n          \"shakespeare\"\n        ],\n        \"semantic_type\": \"\",\n        \"description\": \"\"\n      }\n    },\n    {\n      \"column\": \"title\",\n      \"properties\": {\n        \"dtype\": \"string\",\n        \"num_unique_values\": 39,\n        \"samples\": [\n          \"Richard III.txt\",\n          \"Hamlet.txt\"\n        ],\n        \"semantic_type\": \"\",\n        \"description\": \"\"\n      }\n    },\n    {\n      \"column\": \"length\",\n      \"properties\": {\n        \"dtype\": \"number\",\n        \"std\": 172632,\n        \"min\": 31857,\n        \"max\": 958791,\n        \"num_unique_values\": 39,\n        \"samples\": [\n          200824,\n          149724\n        ],\n        \"semantic_type\": \"\",\n        \"description\": \"\"\n      }\n    },\n    {\n      \"column\": \"unique\",\n      \"properties\": {\n        \"dtype\": \"number\",\n        \"std\": 5409,\n        \"min\": 1871,\n        \"max\": 26794,\n        \"num_unique_values\": 38,\n        \"samples\": [\n          5060,\n          6776\n        ],\n        \"semantic_type\": \"\",\n        \"description\": \"\"\n      }\n    },\n    {\n      \"column\": \"frquent\",\n      \"properties\": {\n        \"dtype\": \"category\",\n        \"num_unique_values\": 14,\n        \"samples\": [\n          \"ysey\",\n          \"zonemake\"\n        ],\n        \"semantic_type\": \"\",\n        \"description\": \"\"\n      }\n    },\n    {\n      \"column\": \"repeated\",\n      \"properties\": {\n        \"dtype\": \"number\",\n        \"std\": 1365,\n        \"min\": 150,\n        \"max\": 6354,\n        \"num_unique_values\": 39,\n        \"samples\": [\n          4920,\n          855\n        ],\n        \"semantic_type\": \"\",\n        \"description\": \"\"\n      }\n    }\n  ]\n}"
            }
          },
          "metadata": {},
          "execution_count": 91
        }
      ]
    }
  ],
  "metadata": {
    "kernelspec": {
      "display_name": "Python 3",
      "language": "python",
      "name": "python3"
    },
    "language_info": {
      "codemirror_mode": {
        "name": "ipython",
        "version": 3
      },
      "file_extension": ".py",
      "mimetype": "text/x-python",
      "name": "python",
      "nbconvert_exporter": "python",
      "pygments_lexer": "ipython3",
      "version": "3.8.8"
    },
    "colab": {
      "provenance": [],
      "include_colab_link": true
    }
  },
  "nbformat": 4,
  "nbformat_minor": 5
}