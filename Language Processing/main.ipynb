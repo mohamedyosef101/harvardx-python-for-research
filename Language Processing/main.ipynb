{
  "cells": [
    {
      "cell_type": "markdown",
      "metadata": {
        "id": "view-in-github",
        "colab_type": "text"
      },
      "source": [
        "<a href=\"https://colab.research.google.com/github/mohamedyosef101/harvardx-python-for-research/blob/main/Language%20Processing/main.ipynb\" target=\"_parent\"><img src=\"https://colab.research.google.com/assets/colab-badge.svg\" alt=\"Open In Colab\"/></a>"
      ]
    },
    {
      "cell_type": "markdown",
      "source": [
        "# Language Processing"
      ],
      "metadata": {
        "id": "Ab6vqDV3HbMC"
      },
      "id": "Ab6vqDV3HbMC"
    },
    {
      "cell_type": "code",
      "source": [
        "# word counting\n",
        "\n",
        "text = \"Hello, my name is Mohamed and this is me trying to make NLP easier!\"\n",
        "\n",
        "def count_words(text):\n",
        "  \"\"\"\n",
        "  count the number of times each word appears in a given text.\n",
        "  \"\"\"\n",
        "  word_counts = {}\n",
        "  for word in text.split(\" \"):\n",
        "    if word in word_counts:\n",
        "      word_counts[word] += 1\n",
        "    else:\n",
        "      word_counts[word] = 1\n",
        "  return word_counts\n",
        "\n",
        "count_words(text)"
      ],
      "metadata": {
        "id": "Y5EC6WSCL8yj",
        "outputId": "4f620c31-5301-4d9f-db8d-e278919f9e24",
        "colab": {
          "base_uri": "https://localhost:8080/"
        }
      },
      "id": "Y5EC6WSCL8yj",
      "execution_count": 1,
      "outputs": [
        {
          "output_type": "execute_result",
          "data": {
            "text/plain": [
              "{'Hello,': 1,\n",
              " 'my': 1,\n",
              " 'name': 1,\n",
              " 'is': 2,\n",
              " 'Mohamed': 1,\n",
              " 'and': 1,\n",
              " 'this': 1,\n",
              " 'me': 1,\n",
              " 'trying': 1,\n",
              " 'to': 1,\n",
              " 'make': 1,\n",
              " 'NLP': 1,\n",
              " 'easier!': 1}"
            ]
          },
          "metadata": {},
          "execution_count": 1
        }
      ]
    },
    {
      "cell_type": "code",
      "source": [
        "# remove punctuation and charcter case affect\n",
        "def count_words(text):\n",
        "  \"\"\"\n",
        "  count the number of times each word appears in a given text.\n",
        "  \"\"\"\n",
        "  word_counts = {}\n",
        "  text = text.lower()\n",
        "  skips = {\".\", \",\", \";\", \":\", \"'\", '\"', \"!\", \"?\"}\n",
        "  for skip in skips:\n",
        "    text = text.replace(skip, \"\")\n",
        "  for word in text.split(\" \"):\n",
        "    if word in word_counts:\n",
        "      word_counts[word] += 1\n",
        "    else:\n",
        "      word_counts[word] = 1\n",
        "  return word_counts\n",
        "\n",
        "count_words(text)"
      ],
      "metadata": {
        "id": "3duIOMoKNPPO",
        "outputId": "5c0c441f-766c-47a0-a6ce-189ea8e0845c",
        "colab": {
          "base_uri": "https://localhost:8080/"
        }
      },
      "id": "3duIOMoKNPPO",
      "execution_count": 2,
      "outputs": [
        {
          "output_type": "execute_result",
          "data": {
            "text/plain": [
              "{'hello': 1,\n",
              " 'my': 1,\n",
              " 'name': 1,\n",
              " 'is': 2,\n",
              " 'mohamed': 1,\n",
              " 'and': 1,\n",
              " 'this': 1,\n",
              " 'me': 1,\n",
              " 'trying': 1,\n",
              " 'to': 1,\n",
              " 'make': 1,\n",
              " 'nlp': 1,\n",
              " 'easier': 1}"
            ]
          },
          "metadata": {},
          "execution_count": 2
        }
      ]
    },
    {
      "cell_type": "code",
      "source": [
        "# using the counter object for fast code\n",
        "\n",
        "from collections import Counter\n",
        "\n",
        "def fast_count(text):\n",
        "  \"\"\"\n",
        "  count the number of times each word appears in a given text using a\n",
        "  Counter object.\n",
        "  \"\"\"\n",
        "  word_counts = {}\n",
        "  text = text.lower()\n",
        "\n",
        "  skips = {\".\", \",\", \";\", \":\", \"'\", '\"', \"!\", \"?\"}\n",
        "  for skip in skips:\n",
        "    text = text.replace(skip, \"\")\n",
        "\n",
        "  word_counts = Counter(text.split(\" \"))\n",
        "\n",
        "  return word_counts\n",
        "\n",
        "fast_count(text)"
      ],
      "metadata": {
        "id": "4IyCFeDgNgPE",
        "outputId": "0d7b0161-744f-49a3-c32b-29a817fbaf0c",
        "colab": {
          "base_uri": "https://localhost:8080/"
        }
      },
      "id": "4IyCFeDgNgPE",
      "execution_count": 3,
      "outputs": [
        {
          "output_type": "execute_result",
          "data": {
            "text/plain": [
              "Counter({'hello': 1,\n",
              "         'my': 1,\n",
              "         'name': 1,\n",
              "         'is': 2,\n",
              "         'mohamed': 1,\n",
              "         'and': 1,\n",
              "         'this': 1,\n",
              "         'me': 1,\n",
              "         'trying': 1,\n",
              "         'to': 1,\n",
              "         'make': 1,\n",
              "         'nlp': 1,\n",
              "         'easier': 1})"
            ]
          },
          "metadata": {},
          "execution_count": 3
        }
      ]
    },
    {
      "cell_type": "code",
      "source": [
        "# Are the two functions give the same output?\n",
        "print(count_words(text) == fast_count(text))"
      ],
      "metadata": {
        "id": "fahOSu6vP6Iy",
        "outputId": "d7d9c6ec-d255-42d1-c9e5-f0d6a149d6d9",
        "colab": {
          "base_uri": "https://localhost:8080/"
        }
      },
      "id": "fahOSu6vP6Iy",
      "execution_count": 4,
      "outputs": [
        {
          "output_type": "stream",
          "name": "stdout",
          "text": [
            "True\n"
          ]
        }
      ]
    },
    {
      "cell_type": "markdown",
      "source": [
        "# Reading in a Book\n",
        "We will use utf8 encoding to encode characters in our files to help computer read them."
      ],
      "metadata": {
        "id": "ZmShOvzkQXNK"
      },
      "id": "ZmShOvzkQXNK"
    },
    {
      "cell_type": "code",
      "source": [
        "# get the books\n",
        "\n",
        "import requests\n",
        "import zipfile\n",
        "from pathlib import Path\n",
        "\n",
        "# Setup path to data folder\n",
        "data_path = Path(\"data/\")\n",
        "books_path = data_path / \"txt-books\"\n",
        "\n",
        "# If the books folder doesn't exist, download it and prepare it...\n",
        "if books_path.is_dir():\n",
        "    print(f\"{books_path} directory exists.\")\n",
        "else:\n",
        "    print(f\"Did not find {books_path} directory, creating one...\")\n",
        "    books_path.mkdir(parents=True, exist_ok=True)\n",
        "\n",
        "    # Download pizza, steak, sushi data\n",
        "    with open(data_path / \"txt-books.zip\", \"wb\") as f:\n",
        "        request = requests.get(\"https://github.com/mohamedyosef101/harvardx-python-for-research/raw/main/Language%20Processing/txt-books.zip\")\n",
        "        print(\"Downloading books...\")\n",
        "        f.write(request.content)\n",
        "\n",
        "    # Unzip txt-books\n",
        "    with zipfile.ZipFile(data_path / \"txt-books.zip\", \"r\") as zip_ref:\n",
        "        print(\"Unzipping books...\")\n",
        "        zip_ref.extractall(books_path)\n"
      ],
      "metadata": {
        "id": "40ym0doWSdKA",
        "outputId": "a1d79096-cc98-4661-eb53-97a9b3c72edc",
        "colab": {
          "base_uri": "https://localhost:8080/"
        }
      },
      "id": "40ym0doWSdKA",
      "execution_count": 5,
      "outputs": [
        {
          "output_type": "stream",
          "name": "stdout",
          "text": [
            "Did not find data/txt-books directory, creating one...\n",
            "Downloading books...\n",
            "Unzipping books...\n"
          ]
        }
      ]
    },
    {
      "cell_type": "code",
      "source": [
        "def read_book(book_path):\n",
        "  \"\"\"\n",
        "  Read a book and return it as a string.\n",
        "  \"\"\"\n",
        "  with open(book_path, \"r\", encoding=\"utf8\") as f:\n",
        "    book = f.read()\n",
        "    book = book.replace(\"\\n\", \"\").replace(\"\\r\", \"\").replace(\"  \", \" \")\n",
        "  return book"
      ],
      "metadata": {
        "id": "APwmygeVYYhe"
      },
      "id": "APwmygeVYYhe",
      "execution_count": 14,
      "outputs": []
    },
    {
      "cell_type": "code",
      "source": [
        "rj_book_path = \"./data/txt-books/English/shakespeare/Romeo and Juliet.txt\"\n",
        "rj_book = read_book(rj_book_path)\n",
        "len(rj_book)"
      ],
      "metadata": {
        "id": "ejPgat_UZNyC",
        "outputId": "bd798924-04c5-48ec-849d-8d84960cdd1f",
        "colab": {
          "base_uri": "https://localhost:8080/"
        }
      },
      "id": "ejPgat_UZNyC",
      "execution_count": 15,
      "outputs": [
        {
          "output_type": "execute_result",
          "data": {
            "text/plain": [
              "161572"
            ]
          },
          "metadata": {},
          "execution_count": 15
        }
      ]
    },
    {
      "cell_type": "code",
      "source": [
        "# search for line\n",
        "rj_book.find(\"What's in a name?\")"
      ],
      "metadata": {
        "id": "9cZPWlTMZ_89",
        "outputId": "976ed10a-016c-4d82-a41f-a6b1770c0969",
        "colab": {
          "base_uri": "https://localhost:8080/"
        }
      },
      "id": "9cZPWlTMZ_89",
      "execution_count": 16,
      "outputs": [
        {
          "output_type": "execute_result",
          "data": {
            "text/plain": [
              "40797"
            ]
          },
          "metadata": {},
          "execution_count": 16
        }
      ]
    },
    {
      "cell_type": "code",
      "source": [
        "# see the big context\n",
        "idx = rj_book.find(\"What's in a name?\")\n",
        "big_context = rj_book[idx-100: idx+1000]\n",
        "big_context"
      ],
      "metadata": {
        "id": "hpnCUggiaLKm",
        "outputId": "f7d94195-7fa9-44b0-8748-90a2d6730e11",
        "colab": {
          "base_uri": "https://localhost:8080/",
          "height": 226
        }
      },
      "id": "hpnCUggiaLKm",
      "execution_count": 17,
      "outputs": [
        {
          "output_type": "execute_result",
          "data": {
            "text/plain": [
              "\"hand, nor foot,  Nor arm, nor face, nor any other part  Belonging to a man. O, be some other name!  What's in a name? That which we call a rose  By any other name would smell as sweet.  So Romeo would, were he not Romeo call'd,  Retain that dear perfection which he owes  Without that title. Romeo, doff thy name;  And for that name, which is no part of thee,  Take all myself. Rom. I take thee at thy word.  Call me but love, and I'll be new baptiz'd;  Henceforth I never will be Romeo. Jul. What man art thou that, thus bescreen'd in night,  So stumblest on my counsel? Rom. By a name  I know not how to tell thee who I am.  My name, dear saint, is hateful to myself,  Because it is an enemy to thee.  Had I it written, I would tear the word. Jul. My ears have yet not drunk a hundred words  Of that tongue's utterance, yet I know the sound.  Art thou not Romeo, and a Montague? Rom. Neither, fair saint, if either thee dislike. Jul. How cam'st thou hither, tell me, and wherefore?  The orchard walls are high and hard to climb,  And the place death, considering who thou art,  If any of my kinsmen\""
            ],
            "application/vnd.google.colaboratory.intrinsic+json": {
              "type": "string"
            }
          },
          "metadata": {},
          "execution_count": 17
        }
      ]
    },
    {
      "cell_type": "code",
      "source": [
        "def word_stats(word_counts, prints=False):\n",
        "  \"Return number of unique words and word frequencies.\"\n",
        "  num_unique = len(word_counts)\n",
        "  counts = word_counts.values() # every dic. has keys and values\n",
        "  most_freq, rep_times = max(word_counts), max(counts)\n",
        "  if prints:\n",
        "    print(f\"There are {num_unique} unique words in the book\" +\n",
        "          f\"\\nThe most frequent word is: {most_freq}\" +\n",
        "          f\" (repeated {rep_times} times)\")\n",
        "  return num_unique, most_freq.replace(\"\\ufeff\", \"\"), rep_times"
      ],
      "metadata": {
        "id": "Prl5gyRubcI6"
      },
      "id": "Prl5gyRubcI6",
      "execution_count": 72,
      "outputs": []
    },
    {
      "cell_type": "code",
      "source": [
        "num_unique, most_freq, rep_times = word_stats(count_words(rj_book))"
      ],
      "metadata": {
        "id": "70_YR9TzcDGn"
      },
      "id": "70_YR9TzcDGn",
      "execution_count": 73,
      "outputs": []
    },
    {
      "cell_type": "code",
      "source": [
        "word_stats(count_words(rj_book), prints=True)"
      ],
      "metadata": {
        "id": "uoXl-mZDjH6b",
        "outputId": "70eaf246-8693-4bbe-8c76-f659bf868b22",
        "colab": {
          "base_uri": "https://localhost:8080/"
        }
      },
      "id": "uoXl-mZDjH6b",
      "execution_count": 74,
      "outputs": [
        {
          "output_type": "stream",
          "name": "stdout",
          "text": [
            "There are 4671 unique words in the book\n",
            "The most frequent word is: ﻿the (repeated 4480 times)\n"
          ]
        },
        {
          "output_type": "execute_result",
          "data": {
            "text/plain": [
              "(4671, 'the', 4480)"
            ]
          },
          "metadata": {},
          "execution_count": 74
        }
      ]
    },
    {
      "cell_type": "markdown",
      "source": [
        "# Reading Multiple files"
      ],
      "metadata": {
        "id": "kPCUoB0ZgEV0"
      },
      "id": "kPCUoB0ZgEV0"
    },
    {
      "cell_type": "markdown",
      "source": [
        "If you take a look at the structure of the book directory, you will find that it looks like the following:\n",
        "\n",
        "```\n",
        "txt-books/\n",
        "  language/\n",
        "    author/\n",
        "      book title\n",
        "```"
      ],
      "metadata": {
        "id": "oV0visWwgffh"
      },
      "id": "oV0visWwgffh"
    },
    {
      "cell_type": "code",
      "source": [
        "import os\n",
        "books_dir = 'data/txt-books'\n",
        "\n",
        "for language in os.listdir(books_dir):\n",
        "  for author in os.listdir(books_dir + \"/\" + language):\n",
        "    for title in os.listdir(books_dir + \"/\" + language + \"/\" + author):\n",
        "      inputfile = books_dir + \"/\" + language + \"/\" + author + \"/\" + title\n",
        "      print(f\" Reading {inputfile}...\")\n",
        "      book = read_book(inputfile)\n",
        "      num_unique, most_freq, rep_times = word_stats(count_words(book))"
      ],
      "metadata": {
        "id": "dcUd3_JudBBb",
        "outputId": "cf6de39d-fbcf-423a-d40d-96f545aa5fa3",
        "colab": {
          "base_uri": "https://localhost:8080/"
        }
      },
      "id": "dcUd3_JudBBb",
      "execution_count": 75,
      "outputs": [
        {
          "output_type": "stream",
          "name": "stdout",
          "text": [
            " Reading data/txt-books/French/de Maupassant/Contes de la Becasse.txt...\n",
            " Reading data/txt-books/French/de Maupassant/Le Horla.txt...\n",
            " Reading data/txt-books/French/de Maupassant/Boule de Suif.txt...\n",
            " Reading data/txt-books/French/de Maupassant/L'inutile beautÇ.txt...\n",
            " Reading data/txt-books/French/de Maupassant/La Main Gauche.txt...\n",
            " Reading data/txt-books/French/de Maupassant/Claire de Lune.txt...\n",
            " Reading data/txt-books/French/de Maupassant/Œuvres complètes de Guy de Maupassant.txt...\n",
            " Reading data/txt-books/French/de Maupassant/La Maison Tellier.txt...\n",
            " Reading data/txt-books/French/de Maupassant/La petite roque.txt...\n",
            " Reading data/txt-books/French/diderot/Entretien d'un päre avec ses enfants.txt...\n",
            " Reading data/txt-books/French/diderot/Regrets sur ma vieille robe de chambre.txt...\n",
            " Reading data/txt-books/French/diderot/Les deux amis de Bourbonne.txt...\n",
            " Reading data/txt-books/French/diderot/Ceci n'est pas un conte.txt...\n",
            " Reading data/txt-books/French/diderot/L'oiseau blanc.txt...\n",
            " Reading data/txt-books/French/sand/La Marquise.txt...\n",
            " Reading data/txt-books/French/sand/cora.txt...\n",
            " Reading data/txt-books/French/sand/La Coupe; Lupo Liverani; Le Toast; Garnier; Le Contrebandier; La Ràverie Ö Paris.txt...\n",
            " Reading data/txt-books/French/sand/Pauline.txt...\n",
            " Reading data/txt-books/French/sand/Oeuvres illustrÇes de George Sand.txt...\n",
            " Reading data/txt-books/French/sand/Le Piccinino.txt...\n",
            " Reading data/txt-books/French/sand/Le poâme de Myrza.txt...\n",
            " Reading data/txt-books/French/sand/Jacques le fataliste et son maåtre.txt...\n",
            " Reading data/txt-books/French/sand/Metella.txt...\n",
            " Reading data/txt-books/French/sand/L' Orco.txt...\n",
            " Reading data/txt-books/French/sand/Mattea.txt...\n",
            " Reading data/txt-books/French/chevalier/L'enfer et le paradis de l'autre monde.txt...\n",
            " Reading data/txt-books/French/chevalier/Le chasseur noir.txt...\n",
            " Reading data/txt-books/French/chevalier/Les derniers Iroquois.txt...\n",
            " Reading data/txt-books/French/chevalier/La fille des indiens rouges.txt...\n",
            " Reading data/txt-books/French/chevalier/La fille du pirate.txt...\n",
            " Reading data/txt-books/French/chevalier/La capitaine.txt...\n",
            " Reading data/txt-books/French/chevalier/L'åle de sable.txt...\n",
            " Reading data/txt-books/English/shakespeare/Macbeth.txt...\n",
            " Reading data/txt-books/English/shakespeare/Richard III.txt...\n",
            " Reading data/txt-books/English/shakespeare/Othello.txt...\n",
            " Reading data/txt-books/English/shakespeare/Romeo and Juliet.txt...\n",
            " Reading data/txt-books/English/shakespeare/Hamlet.txt...\n",
            " Reading data/txt-books/English/shakespeare/The Merchant of Venice.txt...\n",
            " Reading data/txt-books/English/shakespeare/A Midsummer Night's Dream.txt...\n"
          ]
        }
      ]
    },
    {
      "cell_type": "markdown",
      "source": [
        "# Using pandas"
      ],
      "metadata": {
        "id": "2WfvGJW1pJmE"
      },
      "id": "2WfvGJW1pJmE"
    }
  ],
  "metadata": {
    "kernelspec": {
      "display_name": "Python 3",
      "language": "python",
      "name": "python3"
    },
    "language_info": {
      "codemirror_mode": {
        "name": "ipython",
        "version": 3
      },
      "file_extension": ".py",
      "mimetype": "text/x-python",
      "name": "python",
      "nbconvert_exporter": "python",
      "pygments_lexer": "ipython3",
      "version": "3.8.8"
    },
    "colab": {
      "provenance": [],
      "include_colab_link": true
    }
  },
  "nbformat": 4,
  "nbformat_minor": 5
}