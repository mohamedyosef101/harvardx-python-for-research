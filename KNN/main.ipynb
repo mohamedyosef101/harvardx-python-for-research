{
  "cells": [
    {
      "cell_type": "markdown",
      "metadata": {
        "id": "view-in-github",
        "colab_type": "text"
      },
      "source": [
        "<a href=\"https://colab.research.google.com/github/mohamedyosef101/harvardx-python-for-research/blob/main/KNN/main.ipynb\" target=\"_parent\"><img src=\"https://colab.research.google.com/assets/colab-badge.svg\" alt=\"Open In Colab\"/></a>"
      ]
    },
    {
      "cell_type": "markdown",
      "source": [
        "# K-Nearest Neighbor"
      ],
      "metadata": {
        "id": "plnZEkVPYfrV"
      },
      "id": "plnZEkVPYfrV"
    },
    {
      "cell_type": "code",
      "source": [
        "# IMPORTS\n",
        "import numpy as np\n",
        "from scipy import stats"
      ],
      "metadata": {
        "id": "MuW7k4mZY1we"
      },
      "id": "MuW7k4mZY1we",
      "execution_count": 15,
      "outputs": []
    },
    {
      "cell_type": "code",
      "source": [
        "def distance(point1, point2):\n",
        "  \"\"\"Find the distance between two points\"\"\"\n",
        "  distance = np.sqrt(np.sum(np.power(point1 - point2, 2)))\n",
        "  return distance"
      ],
      "metadata": {
        "id": "_eUG3cc_YuUg"
      },
      "id": "_eUG3cc_YuUg",
      "execution_count": 2,
      "outputs": []
    },
    {
      "cell_type": "code",
      "source": [
        "point1 = np.array([1, 1])\n",
        "point2 = np.array([0, 0])\n",
        "distance(point1, point2)"
      ],
      "metadata": {
        "id": "GybDXY21ZaEI",
        "outputId": "ba3398f4-fbd4-4cb1-9029-c0bc27f31c93",
        "colab": {
          "base_uri": "https://localhost:8080/"
        }
      },
      "id": "GybDXY21ZaEI",
      "execution_count": 3,
      "outputs": [
        {
          "output_type": "execute_result",
          "data": {
            "text/plain": [
              "1.4142135623730951"
            ]
          },
          "metadata": {},
          "execution_count": 3
        }
      ]
    },
    {
      "cell_type": "code",
      "source": [
        "def major_vote(votes):\n",
        "  \"\"\"\n",
        "  Get the most repeated class in the neighborhood\n",
        "    input(votes) -> a numpy array of the classes\n",
        "    output(major) -> the major class in the neigborhood\n",
        "  \"\"\"\n",
        "  major = stats.mode(votes).mode\n",
        "  return major"
      ],
      "metadata": {
        "id": "qwinXEY7ZzN5"
      },
      "id": "qwinXEY7ZzN5",
      "execution_count": 18,
      "outputs": []
    },
    {
      "cell_type": "code",
      "source": [
        "major_vote(np.array([1, 2, 3, 4, 5, 4, 3, 2, 2, 6]))"
      ],
      "metadata": {
        "id": "-ORCOiUyfzrT",
        "outputId": "1cc3e81b-b00b-4d90-ff34-6be4121a4081",
        "colab": {
          "base_uri": "https://localhost:8080/"
        }
      },
      "id": "-ORCOiUyfzrT",
      "execution_count": 19,
      "outputs": [
        {
          "output_type": "execute_result",
          "data": {
            "text/plain": [
              "2"
            ]
          },
          "metadata": {},
          "execution_count": 19
        }
      ]
    },
    {
      "cell_type": "code",
      "source": [
        "# calculate the distance between p and every other point\n",
        "# get the k nearest points from p\n",
        "\n",
        "points = np.array([[0, 0], [0, 1], [2, 2], [1, 1], [0, 2]])\n",
        "p = np.array([1, 2])\n",
        "\n",
        "distances = np.zeros(points.shape[0])\n",
        "for i in range(len(distances)):\n",
        "  distances[i] = distance(points[i], p)\n",
        "ind = np.argsort(distances)\n",
        "k = 2\n",
        "points[ind[:k]]\n",
        "classes = np.array([1, 1, 0, 0, 1])"
      ],
      "metadata": {
        "id": "25qfEGj2fUYy"
      },
      "id": "25qfEGj2fUYy",
      "execution_count": 34,
      "outputs": []
    },
    {
      "cell_type": "code",
      "source": [
        "def knn(points, classes, p, k=2):\n",
        "  distances = np.zeros(points.shape[0])\n",
        "  for i in range(len(distances)):\n",
        "    distances[i] = distance(points[i], p)\n",
        "  ind = np.argsort(distances)\n",
        "  points[ind[:k]]\n",
        "  return major_vote(classes[ind[:k]])"
      ],
      "metadata": {
        "id": "THF0P_q-mz1D"
      },
      "id": "THF0P_q-mz1D",
      "execution_count": 35,
      "outputs": []
    },
    {
      "cell_type": "code",
      "source": [
        "knn(points, classes, p, k=3)"
      ],
      "metadata": {
        "id": "RB6ALlV_oK02",
        "outputId": "e54d1dd2-ab0f-4073-fe8e-25ff9681e0b0",
        "colab": {
          "base_uri": "https://localhost:8080/"
        }
      },
      "id": "RB6ALlV_oK02",
      "execution_count": 36,
      "outputs": [
        {
          "output_type": "execute_result",
          "data": {
            "text/plain": [
              "0"
            ]
          },
          "metadata": {},
          "execution_count": 36
        }
      ]
    }
  ],
  "metadata": {
    "kernelspec": {
      "display_name": "Python 3",
      "language": "python",
      "name": "python3"
    },
    "language_info": {
      "codemirror_mode": {
        "name": "ipython",
        "version": 3
      },
      "file_extension": ".py",
      "mimetype": "text/x-python",
      "name": "python",
      "nbconvert_exporter": "python",
      "pygments_lexer": "ipython3",
      "version": "3.8.8"
    },
    "colab": {
      "provenance": [],
      "include_colab_link": true
    }
  },
  "nbformat": 4,
  "nbformat_minor": 5
}