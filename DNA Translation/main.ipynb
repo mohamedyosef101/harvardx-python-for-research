{
  "cells": [
    {
      "cell_type": "markdown",
      "metadata": {
        "id": "view-in-github",
        "colab_type": "text"
      },
      "source": [
        "<a href=\"https://colab.research.google.com/github/mohamedyosef101/harvardx-python-for-research/blob/main/main.ipynb\" target=\"_parent\"><img src=\"https://colab.research.google.com/assets/colab-badge.svg\" alt=\"Open In Colab\"/></a>"
      ]
    },
    {
      "cell_type": "code",
      "source": [
        "import requests\n",
        "\n",
        "req = requests.get('https://raw.githubusercontent.com/mohamedyosef101/harvardx-python-for-research/main/dna.txt')\n",
        "seq = req.text\n",
        "print(seq)"
      ],
      "metadata": {
        "id": "qMERoQWlicoV",
        "outputId": "2c380c69-b4f1-483e-94aa-a990b7cba15a",
        "colab": {
          "base_uri": "https://localhost:8080/"
        }
      },
      "id": "qMERoQWlicoV",
      "execution_count": 11,
      "outputs": [
        {
          "output_type": "stream",
          "name": "stdout",
          "text": [
            "GGTCAGAAAAAGCCCTCTCCATGTCTACTCACGATACATCCCTGAAAACCACTGAGGAAGTGGCTTTTCA\n",
            "GATCATCTTGCTTTGCCAGTTTGGGGTTGGGACTTTTGCCAATGTATTTCTCTTTGTCTATAATTTCTCT\n",
            "CCAATCTCGACTGGTTCTAAACAGAGGCCCAGACAAGTGATTTTAAGACACATGGCTGTGGCCAATGCCT\n",
            "TAACTCTCTTCCTCACTATATTTCCAAACAACATGATGACTTTTGCTCCAATTATTCCTCAAACTGACCT\n",
            "CAAATGTAAATTAGAATTCTTCACTCGCCTCGTGGCAAGAAGCACAAACTTGTGTTCAACTTGTGTTCTG\n",
            "AGTATCCATCAGTTTGTCACACTTGTTCCTGTTAATTCAGGTAAAGGAATACTCAGAGCAAGTGTCACAA\n",
            "ACATGGCAAGTTATTCTTGTTACAGTTGTTGGTTCTTCAGTGTCTTAAATAACATCTACATTCCAATTAA\n",
            "GGTCACTGGTCCACAGTTAACAGACAATAACAATAACTCTAAAAGCAAGTTGTTCTGTTCCACTTCTGAT\n",
            "TTCAGTGTAGGCATTGTCTTCTTGAGGTTTGCCCATGATGCCACATTCATGAGCATCATGGTCTGGACCA\n",
            "GTGTCTCCATGGTACTTCTCCTCCATAGACATTGTCAGAGAATGCAGTACATATTCACTCTCAATCAGGA\n",
            "CCCCAGGGGCCAAGCAGAGACCACAGCAACCCATACTATCCTGATGCTGGTAGTCACATTTGTTGGCTTT\n",
            "TATCTTCTAAGTCTTATTTGTATCATCTTTTACACCTATTTTATATATTCTCATCATTCCCTGAGGCATT\n",
            "GCAATGACATTTTGGTTTCGGGTTTCCCTACAATTTCTCCTTTACTGTTGACCTTCAGAGACCCTAAGGG\n",
            "TCCTTGTTCTGTGTTCTTCAACTGTTGAAAGCCAGAGTCACTAAAAATGCCAAACACAGAAGACAGCTTT\n",
            "GCTAATACCATTAAATACTTTATTCCATAAATATGTTTTTAAAAGCTTGTATGAACAAGGTATGGTGCTC\n",
            "ACTGCTATACTTATAAAAGAGTAAGGTTATAATCACTTGTTGATATGAAAAGATTTCTGGTTGGAATCTG\n",
            "ATTGAAACAGTGAGTTATTCACCACCCTCCATTCTCT\n",
            "\n"
          ]
        }
      ]
    },
    {
      "cell_type": "code",
      "source": [
        "# Download table from the repo\n",
        "\n",
        "import requests\n",
        "from pathlib import Path as path\n",
        "\n",
        "if path(\"table.py\").is_file():\n",
        "  print(\"file is already exists, skipping download...\")\n",
        "else:\n",
        "  print(\"downloading table.py ...\")\n",
        "  r = requests.get(\"https://raw.githubusercontent.com/mohamedyosef101/harvardx-python-for-research/main/table.py\")\n",
        "  with open(\"table.py\", \"wb\") as f:\n",
        "    f.write(r.content)\n",
        "\n",
        "from table import table\n",
        "table"
      ],
      "metadata": {
        "id": "9jxxdFgOmHfR",
        "outputId": "1eadec14-ecad-438c-e94c-fd44924664eb",
        "colab": {
          "base_uri": "https://localhost:8080/"
        }
      },
      "id": "9jxxdFgOmHfR",
      "execution_count": 16,
      "outputs": [
        {
          "output_type": "stream",
          "name": "stdout",
          "text": [
            "downloading table.py ...\n"
          ]
        },
        {
          "output_type": "execute_result",
          "data": {
            "text/plain": [
              "{'ATA': 'I',\n",
              " 'ATC': 'I',\n",
              " 'ATT': 'I',\n",
              " 'ATG': 'M',\n",
              " 'ACA': 'T',\n",
              " 'ACC': 'T',\n",
              " 'ACG': 'T',\n",
              " 'ACT': 'T',\n",
              " 'AAC': 'N',\n",
              " 'AAT': 'N',\n",
              " 'AAA': 'K',\n",
              " 'AAG': 'K',\n",
              " 'AGC': 'S',\n",
              " 'AGT': 'S',\n",
              " 'AGA': 'R',\n",
              " 'AGG': 'R',\n",
              " 'CTA': 'L',\n",
              " 'CTC': 'L',\n",
              " 'CTG': 'L',\n",
              " 'CTT': 'L',\n",
              " 'CCA': 'P',\n",
              " 'CCC': 'P',\n",
              " 'CCG': 'P',\n",
              " 'CCT': 'P',\n",
              " 'CAC': 'H',\n",
              " 'CAT': 'H',\n",
              " 'CAA': 'Q',\n",
              " 'CAG': 'Q',\n",
              " 'CGA': 'R',\n",
              " 'CGC': 'R',\n",
              " 'CGG': 'R',\n",
              " 'CGT': 'R',\n",
              " 'GTA': 'V',\n",
              " 'GTC': 'V',\n",
              " 'GTG': 'V',\n",
              " 'GTT': 'V',\n",
              " 'GCA': 'A',\n",
              " 'GCC': 'A',\n",
              " 'GCG': 'A',\n",
              " 'GCT': 'A',\n",
              " 'GAC': 'D',\n",
              " 'GAT': 'D',\n",
              " 'GAA': 'E',\n",
              " 'GAG': 'E',\n",
              " 'GGA': 'G',\n",
              " 'GGC': 'G',\n",
              " 'GGG': 'G',\n",
              " 'GGT': 'G',\n",
              " 'TCA': 'S',\n",
              " 'TCC': 'S',\n",
              " 'TCG': 'S',\n",
              " 'TCT': 'S',\n",
              " 'TTC': 'F',\n",
              " 'TTT': 'F',\n",
              " 'TTA': 'L',\n",
              " 'TTG': 'L',\n",
              " 'TAC': 'Y',\n",
              " 'TAT': 'Y',\n",
              " 'TAA': '_',\n",
              " 'TAG': '_',\n",
              " 'TGC': 'C',\n",
              " 'TGT': 'C',\n",
              " 'TGA': '_',\n",
              " 'TGG': 'W'}"
            ]
          },
          "metadata": {},
          "execution_count": 16
        }
      ]
    },
    {
      "cell_type": "code",
      "source": [],
      "metadata": {
        "id": "H9Rw-mmkmQUc"
      },
      "id": "H9Rw-mmkmQUc",
      "execution_count": null,
      "outputs": []
    }
  ],
  "metadata": {
    "kernelspec": {
      "display_name": "Python 3",
      "language": "python",
      "name": "python3"
    },
    "language_info": {
      "codemirror_mode": {
        "name": "ipython",
        "version": 3
      },
      "file_extension": ".py",
      "mimetype": "text/x-python",
      "name": "python",
      "nbconvert_exporter": "python",
      "pygments_lexer": "ipython3",
      "version": "3.8.8"
    },
    "colab": {
      "provenance": [],
      "include_colab_link": true
    }
  },
  "nbformat": 4,
  "nbformat_minor": 5
}
