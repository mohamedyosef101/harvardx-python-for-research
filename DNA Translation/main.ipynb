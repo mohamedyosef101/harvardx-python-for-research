{
  "cells": [
    {
      "cell_type": "markdown",
      "metadata": {
        "id": "view-in-github",
        "colab_type": "text"
      },
      "source": [
        "<a href=\"https://colab.research.google.com/github/mohamedyosef101/harvardx-python-for-research/blob/main/DNA%20Translation/main.ipynb\" target=\"_parent\"><img src=\"https://colab.research.google.com/assets/colab-badge.svg\" alt=\"Open In Colab\"/></a>"
      ]
    },
    {
      "cell_type": "markdown",
      "source": [
        "# Get the data"
      ],
      "metadata": {
        "id": "g4YkYDXDiKJx"
      },
      "id": "g4YkYDXDiKJx"
    },
    {
      "cell_type": "code",
      "source": [
        "%%writefile dna.txt\n",
        "GGTCAGAAAAAGCCCTCTCCATGTCTACTCACGATACATCCCTGAAAACCACTGAGGAAGTGGCTTTTCA\n",
        "GATCATCTTGCTTTGCCAGTTTGGGGTTGGGACTTTTGCCAATGTATTTCTCTTTGTCTATAATTTCTCT\n",
        "CCAATCTCGACTGGTTCTAAACAGAGGCCCAGACAAGTGATTTTAAGACACATGGCTGTGGCCAATGCCT\n",
        "TAACTCTCTTCCTCACTATATTTCCAAACAACATGATGACTTTTGCTCCAATTATTCCTCAAACTGACCT\n",
        "CAAATGTAAATTAGAATTCTTCACTCGCCTCGTGGCAAGAAGCACAAACTTGTGTTCAACTTGTGTTCTG\n",
        "AGTATCCATCAGTTTGTCACACTTGTTCCTGTTAATTCAGGTAAAGGAATACTCAGAGCAAGTGTCACAA\n",
        "ACATGGCAAGTTATTCTTGTTACAGTTGTTGGTTCTTCAGTGTCTTAAATAACATCTACATTCCAATTAA\n",
        "GGTCACTGGTCCACAGTTAACAGACAATAACAATAACTCTAAAAGCAAGTTGTTCTGTTCCACTTCTGAT\n",
        "TTCAGTGTAGGCATTGTCTTCTTGAGGTTTGCCCATGATGCCACATTCATGAGCATCATGGTCTGGACCA\n",
        "GTGTCTCCATGGTACTTCTCCTCCATAGACATTGTCAGAGAATGCAGTACATATTCACTCTCAATCAGGA\n",
        "CCCCAGGGGCCAAGCAGAGACCACAGCAACCCATACTATCCTGATGCTGGTAGTCACATTTGTTGGCTTT\n",
        "TATCTTCTAAGTCTTATTTGTATCATCTTTTACACCTATTTTATATATTCTCATCATTCCCTGAGGCATT\n",
        "GCAATGACATTTTGGTTTCGGGTTTCCCTACAATTTCTCCTTTACTGTTGACCTTCAGAGACCCTAAGGG\n",
        "TCCTTGTTCTGTGTTCTTCAACTGTTGAAAGCCAGAGTCACTAAAAATGCCAAACACAGAAGACAGCTTT\n",
        "GCTAATACCATTAAATACTTTATTCCATAAATATGTTTTTAAAAGCTTGTATGAACAAGGTATGGTGCTC\n",
        "ACTGCTATACTTATAAAAGAGTAAGGTTATAATCACTTGTTGATATGAAAAGATTTCTGGTTGGAATCTG\n",
        "ATTGAAACAGTGAGTTATTCACCACCCTCCATTCTCT"
      ],
      "metadata": {
        "id": "O9PFKwjRiO6F",
        "outputId": "5048f610-306f-4486-b8c8-4efdd2a3e6fd",
        "colab": {
          "base_uri": "https://localhost:8080/"
        }
      },
      "id": "O9PFKwjRiO6F",
      "execution_count": 19,
      "outputs": [
        {
          "output_type": "stream",
          "name": "stdout",
          "text": [
            "Writing dna.txt\n"
          ]
        }
      ]
    },
    {
      "cell_type": "code",
      "source": [
        "%%writefile protein.txt\n",
        "MSTHDTSLKTTEEVAFQIILLCQFGVGTFANVFLFVYNFSPIST\n",
        "GSKQRPRQVILRHMAVANALTLFLTIFPNNMMTFAPIIPQTDLKCKLEFFTRLVARST\n",
        "NLCSTCVLSIHQFVTLVPVNSGKGILRASVTNMASYSCYSCWFFSVLNNIYIPIKVTG\n",
        "PQLTDNNNNSKSKLFCSTSDFSVGIVFLRFAHDATFMSIMVWTSVSMVLLLHRHCQRM\n",
        "QYIFTLNQDPRGQAETTATHTILMLVVTFVGFYLLSLICIIFYTYFIYSHHSLRHCND\n",
        "ILVSGFPTISPLLLTFRDPKGPCSVFFNC"
      ],
      "metadata": {
        "id": "j4jHtKXTip8E",
        "outputId": "018a4315-fc6a-4c4f-884b-89dedaedf6b8",
        "colab": {
          "base_uri": "https://localhost:8080/"
        }
      },
      "id": "j4jHtKXTip8E",
      "execution_count": 20,
      "outputs": [
        {
          "output_type": "stream",
          "name": "stdout",
          "text": [
            "Writing protein.txt\n"
          ]
        }
      ]
    },
    {
      "cell_type": "code",
      "source": [
        "table = {\n",
        "    'ATA':'I', 'ATC':'I', 'ATT':'I', 'ATG':'M',\n",
        "    'ACA':'T', 'ACC':'T', 'ACG':'T', 'ACT':'T',\n",
        "    'AAC':'N', 'AAT':'N', 'AAA':'K', 'AAG':'K',\n",
        "    'AGC':'S', 'AGT':'S', 'AGA':'R', 'AGG':'R',\n",
        "    'CTA':'L', 'CTC':'L', 'CTG':'L', 'CTT':'L',\n",
        "    'CCA':'P', 'CCC':'P', 'CCG':'P', 'CCT':'P',\n",
        "    'CAC':'H', 'CAT':'H', 'CAA':'Q', 'CAG':'Q',\n",
        "    'CGA':'R', 'CGC':'R', 'CGG':'R', 'CGT':'R',\n",
        "    'GTA':'V', 'GTC':'V', 'GTG':'V', 'GTT':'V',\n",
        "    'GCA':'A', 'GCC':'A', 'GCG':'A', 'GCT':'A',\n",
        "    'GAC':'D', 'GAT':'D', 'GAA':'E', 'GAG':'E',\n",
        "    'GGA':'G', 'GGC':'G', 'GGG':'G', 'GGT':'G',\n",
        "    'TCA':'S', 'TCC':'S', 'TCG':'S', 'TCT':'S',\n",
        "    'TTC':'F', 'TTT':'F', 'TTA':'L', 'TTG':'L',\n",
        "    'TAC':'Y', 'TAT':'Y', 'TAA':'_', 'TAG':'_',\n",
        "    'TGC':'C', 'TGT':'C', 'TGA':'_', 'TGG':'W',\n",
        "}"
      ],
      "metadata": {
        "id": "SRWqhv7qlDCU"
      },
      "id": "SRWqhv7qlDCU",
      "execution_count": 21,
      "outputs": []
    },
    {
      "cell_type": "code",
      "source": [
        "inputfiles = [\"dna.txt\", \"protein.txt\"]\n",
        "seq = []\n",
        "\n",
        "for i, file in enumerate(inputfiles):\n",
        "  f = open(file, \"r\")\n",
        "  seq.append(f.read())\n",
        "  seq[i] = seq[i].replace(\"\\n\", \"\")\n",
        "  seq[i] = seq[i].replace(\"\\r\", \"\")\n",
        "\n",
        "dna = seq[0]\n",
        "protein = seq[1]"
      ],
      "metadata": {
        "id": "YFAivyEBlYmU"
      },
      "id": "YFAivyEBlYmU",
      "execution_count": 26,
      "outputs": []
    },
    {
      "cell_type": "markdown",
      "source": [
        "# Build the algorithm"
      ],
      "metadata": {
        "id": "1EO8yJtLn0wZ"
      },
      "id": "1EO8yJtLn0wZ"
    },
    {
      "cell_type": "code",
      "source": [
        "# === The small demo ====\n",
        "s = \"abcdef\"\n",
        "t = {'abc': '1', \"def\": '2'}\n",
        "res = []\n",
        "i = 0\n",
        "\n",
        "while i < len(s):\n",
        "  print(f\"i={i}\")\n",
        "  test = s[i: i+3]\n",
        "  print(f\"testing {test}...\")\n",
        "  result = t[test]\n",
        "  print(f\"this is {result}\")\n",
        "  res.append(result)\n",
        "  print(f\"the full list: {res}\")\n",
        "  i = i + 3"
      ],
      "metadata": {
        "id": "6cRc1Hn3nyZV",
        "outputId": "087f99b5-a860-4376-8769-e87544924b8b",
        "colab": {
          "base_uri": "https://localhost:8080/"
        }
      },
      "id": "6cRc1Hn3nyZV",
      "execution_count": 33,
      "outputs": [
        {
          "output_type": "stream",
          "name": "stdout",
          "text": [
            "i=0\n",
            "testing abc...\n",
            "this is 1\n",
            "the full list: ['1']\n",
            "i=3\n",
            "testing def...\n",
            "this is 2\n",
            "the full list: ['1', '2']\n"
          ]
        },
        {
          "output_type": "execute_result",
          "data": {
            "text/plain": [
              "['1', '2']"
            ]
          },
          "metadata": {},
          "execution_count": 33
        }
      ]
    },
    {
      "cell_type": "code",
      "source": [
        "translated_seq = ''\n",
        "i = 0\n",
        "dna = dna[20:935]\n",
        "\n",
        "while i < len(dna):\n",
        "  clip = dna[i: i+3]\n",
        "  if len(clip) < 3:\n",
        "    break\n",
        "  else:\n",
        "    result = table[clip]\n",
        "    translated_seq += result\n",
        "    i += 3"
      ],
      "metadata": {
        "id": "1appdkxXumqa"
      },
      "id": "1appdkxXumqa",
      "execution_count": 41,
      "outputs": []
    },
    {
      "cell_type": "code",
      "source": [
        "# check the results\n",
        "print(translated_seq == protein)"
      ],
      "metadata": {
        "id": "4dF6_IMvwMBG",
        "outputId": "8d52f09a-110c-402a-f5eb-f88febc6bf32",
        "colab": {
          "base_uri": "https://localhost:8080/"
        }
      },
      "id": "4dF6_IMvwMBG",
      "execution_count": 42,
      "outputs": [
        {
          "output_type": "stream",
          "name": "stdout",
          "text": [
            "True\n"
          ]
        }
      ]
    }
  ],
  "metadata": {
    "kernelspec": {
      "display_name": "Python 3",
      "language": "python",
      "name": "python3"
    },
    "language_info": {
      "codemirror_mode": {
        "name": "ipython",
        "version": 3
      },
      "file_extension": ".py",
      "mimetype": "text/x-python",
      "name": "python",
      "nbconvert_exporter": "python",
      "pygments_lexer": "ipython3",
      "version": "3.8.8"
    },
    "colab": {
      "provenance": [],
      "include_colab_link": true
    }
  },
  "nbformat": 4,
  "nbformat_minor": 5
}