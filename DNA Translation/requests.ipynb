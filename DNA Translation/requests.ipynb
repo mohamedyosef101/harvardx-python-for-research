{
  "cells": [
    {
      "cell_type": "markdown",
      "metadata": {
        "id": "view-in-github",
        "colab_type": "text"
      },
      "source": [
        "<a href=\"https://colab.research.google.com/github/mohamedyosef101/harvardx-python-for-research/blob/main/DNA%20Translation/main.ipynb\" target=\"_parent\"><img src=\"https://colab.research.google.com/assets/colab-badge.svg\" alt=\"Open In Colab\"/></a>"
      ]
    },
    {
      "cell_type": "code",
      "source": [
        "import requests\n",
        "request_dna = requests.get('https://raw.githubusercontent.com/mohamedyosef101/harvardx-python-for-research/main/DNA%20Translation/dna.txt')\n",
        "dna_seq = request_dna.text\n",
        "request_protein = requests.get(\"https://raw.githubusercontent.com/mohamedyosef101/harvardx-python-for-research/main/DNA%20Translation/protein.txt\")\n",
        "protein_seq = request_protein.text"
      ],
      "metadata": {
        "id": "qMERoQWlicoV"
      },
      "id": "qMERoQWlicoV",
      "execution_count": 10,
      "outputs": []
    },
    {
      "cell_type": "code",
      "source": [
        "import requests\n",
        "from pathlib import Path as path\n",
        "\n",
        "if path(\"table.py\").is_file():\n",
        "  print(\"file is already exists, skipping download...\")\n",
        "else:\n",
        "  print(\"downloading table.py ...\")\n",
        "  r = requests.get(\"https://raw.githubusercontent.com/mohamedyosef101/harvardx-python-for-research/main/DNA%20Translation/table.py\")\n",
        "  with open(\"table.py\", \"wb\") as f:\n",
        "    f.write(r.content)\n",
        "print(\"DONE\")"
      ],
      "metadata": {
        "id": "9jxxdFgOmHfR",
        "outputId": "b1697d7a-3d73-4210-9648-f8fed86c928b",
        "colab": {
          "base_uri": "https://localhost:8080/"
        }
      },
      "id": "9jxxdFgOmHfR",
      "execution_count": 12,
      "outputs": [
        {
          "output_type": "stream",
          "name": "stdout",
          "text": [
            "file is already exists, skipping download...\n",
            "DONE\n"
          ]
        }
      ]
    },
    {
      "cell_type": "code",
      "source": [
        "from table import table\n",
        "table[\"GGT\"]"
      ],
      "metadata": {
        "id": "H9Rw-mmkmQUc",
        "outputId": "bb14d894-dcc0-4d3f-b8e1-0e8620289502",
        "colab": {
          "base_uri": "https://localhost:8080/",
          "height": 35
        }
      },
      "id": "H9Rw-mmkmQUc",
      "execution_count": 17,
      "outputs": [
        {
          "output_type": "execute_result",
          "data": {
            "text/plain": [
              "'G'"
            ],
            "application/vnd.google.colaboratory.intrinsic+json": {
              "type": "string"
            }
          },
          "metadata": {},
          "execution_count": 17
        }
      ]
    }
  ],
  "metadata": {
    "kernelspec": {
      "display_name": "Python 3",
      "language": "python",
      "name": "python3"
    },
    "language_info": {
      "codemirror_mode": {
        "name": "ipython",
        "version": 3
      },
      "file_extension": ".py",
      "mimetype": "text/x-python",
      "name": "python",
      "nbconvert_exporter": "python",
      "pygments_lexer": "ipython3",
      "version": "3.8.8"
    },
    "colab": {
      "provenance": [],
      "include_colab_link": true
    }
  },
  "nbformat": 4,
  "nbformat_minor": 5
}
